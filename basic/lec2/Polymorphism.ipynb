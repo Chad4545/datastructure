{
 "cells": [
  {
   "cell_type": "markdown",
   "metadata": {},
   "source": [
    "## Method Overriding/ Method Overloading"
   ]
  },
  {
   "cell_type": "code",
   "execution_count": 5,
   "metadata": {},
   "outputs": [
    {
     "name": "stdout",
     "output_type": "stream",
     "text": [
      "bellboy opens a door\n"
     ]
    },
    {
     "ename": "TypeError",
     "evalue": "checkin() missing 1 required positional argument: 'days'",
     "output_type": "error",
     "traceback": [
      "\u001b[0;31m---------------------------------------------------------------------------\u001b[0m",
      "\u001b[0;31mTypeError\u001b[0m                                 Traceback (most recent call last)",
      "\u001b[0;32m<ipython-input-5-085f8c9ce1db>\u001b[0m in \u001b[0;36m<module>\u001b[0;34m()\u001b[0m\n\u001b[1;32m     15\u001b[0m \u001b[0mlotteHotel\u001b[0m \u001b[0;34m=\u001b[0m \u001b[0mHotel\u001b[0m\u001b[0;34m(\u001b[0m\u001b[0;34m)\u001b[0m\u001b[0;34m\u001b[0m\u001b[0m\n\u001b[1;32m     16\u001b[0m \u001b[0mlotteHotel\u001b[0m\u001b[0;34m.\u001b[0m\u001b[0mopenDoor\u001b[0m\u001b[0;34m(\u001b[0m\u001b[0;34m)\u001b[0m\u001b[0;34m\u001b[0m\u001b[0m\n\u001b[0;32m---> 17\u001b[0;31m \u001b[0mlotteHotel\u001b[0m\u001b[0;34m.\u001b[0m\u001b[0mcheckin\u001b[0m\u001b[0;34m(\u001b[0m\u001b[0;34m)\u001b[0m\u001b[0;34m\u001b[0m\u001b[0m\n\u001b[0m\u001b[1;32m     18\u001b[0m \u001b[0;31m#lotteHotel.checkin(2)\u001b[0m\u001b[0;34m\u001b[0m\u001b[0;34m\u001b[0m\u001b[0m\n",
      "\u001b[0;31mTypeError\u001b[0m: checkin() missing 1 required positional argument: 'days'"
     ]
    }
   ],
   "source": [
    "class Building:\n",
    "    strAddress ='Seoul'\n",
    "    def openDoor(self):\n",
    "        print(\"Door Opened\")\n",
    "        \n",
    "class Hotel:\n",
    "    def openDoor(self):\n",
    "        print(\"bellboy opens a door\")\n",
    "    def checkin(self):\n",
    "        print(\"Someone checks in for 1 day\")\n",
    "    def checkin(self,days):\n",
    "        print(\"Someone checks in for\",days,\"days\")\n",
    "\n",
    "\n",
    "lotteHotel = Hotel()\n",
    "lotteHotel.openDoor()\n",
    "lotteHotel.checkin()\n",
    "#lotteHotel.checkin(2)"
   ]
  },
  {
   "cell_type": "code",
   "execution_count": 6,
   "metadata": {},
   "outputs": [],
   "source": [
    "class Building:\n",
    "    strAddress ='Seoul'\n",
    "    def openDoor(self):\n",
    "        print(\"Door Opened\")\n",
    "        \n",
    "class Hotel:\n",
    "    def openDoor(self):\n",
    "        print(\"bellboy opens a door\")\n",
    "    def checkin(self,days=1):\n",
    "        print(\"Someone checks in for\",days,\"days\")\n"
   ]
  },
  {
   "cell_type": "code",
   "execution_count": 7,
   "metadata": {},
   "outputs": [
    {
     "name": "stdout",
     "output_type": "stream",
     "text": [
      "bellboy opens a door\n",
      "Someone checks in for 1 days\n",
      "Someone checks in for 2 days\n"
     ]
    }
   ],
   "source": [
    "lotteHotel = Hotel()\n",
    "lotteHotel.openDoor()\n",
    "lotteHotel.checkin()\n",
    "lotteHotel.checkin(2)"
   ]
  },
  {
   "cell_type": "code",
   "execution_count": null,
   "metadata": {},
   "outputs": [],
   "source": []
  }
 ],
 "metadata": {
  "kernelspec": {
   "display_name": "Python [conda env:anaconda3]",
   "language": "python",
   "name": "conda-env-anaconda3-py"
  },
  "language_info": {
   "codemirror_mode": {
    "name": "ipython",
    "version": 3
   },
   "file_extension": ".py",
   "mimetype": "text/x-python",
   "name": "python",
   "nbconvert_exporter": "python",
   "pygments_lexer": "ipython3",
   "version": "3.6.4"
  }
 },
 "nbformat": 4,
 "nbformat_minor": 2
}
