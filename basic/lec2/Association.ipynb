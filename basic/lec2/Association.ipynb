{
 "cells": [
  {
   "cell_type": "code",
   "execution_count": 1,
   "metadata": {},
   "outputs": [],
   "source": [
    "class Customer:\n",
    "    ID = \"No one\"\n",
    "    lstAccounts = []\n",
    "    def addBankAccounts(self,account):\n",
    "        self.lstAccounts.append(account)\n",
    "        \n",
    "class BankAccount:\n",
    "    strAccountHolder =\"No one\"\n",
    "    def changeAccountHolder(self, holder):\n",
    "        self.strAccountHolder = holder\n",
    "        "
   ]
  },
  {
   "cell_type": "markdown",
   "metadata": {},
   "source": [
    "## one to many : Customer 은 many Account \n",
    "\n",
    "## many to one : Account 는 하나의 holder"
   ]
  },
  {
   "cell_type": "code",
   "execution_count": null,
   "metadata": {},
   "outputs": [],
   "source": []
  }
 ],
 "metadata": {
  "kernelspec": {
   "display_name": "Python [conda env:anaconda3]",
   "language": "python",
   "name": "conda-env-anaconda3-py"
  },
  "language_info": {
   "codemirror_mode": {
    "name": "ipython",
    "version": 3
   },
   "file_extension": ".py",
   "mimetype": "text/x-python",
   "name": "python",
   "nbconvert_exporter": "python",
   "pygments_lexer": "ipython3",
   "version": "3.6.4"
  }
 },
 "nbformat": 4,
 "nbformat_minor": 2
}
