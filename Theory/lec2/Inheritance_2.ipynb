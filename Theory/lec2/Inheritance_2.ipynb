{
 "cells": [
  {
   "cell_type": "code",
   "execution_count": 2,
   "metadata": {},
   "outputs": [],
   "source": [
    "class Father(object):\n",
    "    strHometown = 'Jeju'\n",
    "    \n",
    "    def __init__(self,paramHome):\n",
    "        self.strHometown = paramHome\n",
    "        print('Father is created')\n",
    "    \n",
    "    def doFatherThing(self):\n",
    "        print(\"Father's action\")\n",
    "    def doRunning(self):\n",
    "        print(\"slow\")\n",
    "        \n",
    "class Mother(object):\n",
    "    strHometown = \"Seoul\"\n",
    "    \n",
    "    def __init__(self):\n",
    "        print(\"Mother is created\")\n",
    "    \n",
    "    def doMotherThing(self):\n",
    "        print(\"Mather's action\")\n",
    "        \n",
    "    def doCooking(self):\n",
    "        print(\"Not good\")\n",
    "        \n",
    "class Child(Father,Mother):\n",
    "    strName='Chad'\n",
    "    def __init__(self, paramName,paramHome):\n",
    "        super(Child,self).__init__(paramHome)\n",
    "        self.strName = paramName\n",
    "        print(\"Child is created\")\n",
    "    def doRunning(self):\n",
    "        print('fast')\n",
    "    def doCooking(self):\n",
    "        print(\"good\")"
   ]
  },
  {
   "cell_type": "code",
   "execution_count": 6,
   "metadata": {},
   "outputs": [
    {
     "name": "stdout",
     "output_type": "stream",
     "text": [
      "Father is created\n",
      "Child is created\n",
      "Father is created\n"
     ]
    }
   ],
   "source": [
    "me =Child('Chad','Universe')\n",
    "father = Father(\"Earth\")"
   ]
  },
  {
   "cell_type": "code",
   "execution_count": 10,
   "metadata": {},
   "outputs": [
    {
     "name": "stdout",
     "output_type": "stream",
     "text": [
      "Universe\n",
      "Chad\n"
     ]
    }
   ],
   "source": [
    "print(me.strHometown)\n",
    "print(me.strName)"
   ]
  },
  {
   "cell_type": "code",
   "execution_count": 11,
   "metadata": {},
   "outputs": [
    {
     "name": "stdout",
     "output_type": "stream",
     "text": [
      "Father's action\n",
      "Mather's action\n",
      "fast\n",
      "good\n"
     ]
    }
   ],
   "source": [
    "me.doFatherThing()\n",
    "me.doMotherThing()\n",
    "me.doRunning()\n",
    "me.doCooking()"
   ]
  },
  {
   "cell_type": "code",
   "execution_count": 12,
   "metadata": {},
   "outputs": [
    {
     "data": {
      "text/plain": [
       "'Earth'"
      ]
     },
     "execution_count": 12,
     "metadata": {},
     "output_type": "execute_result"
    }
   ],
   "source": [
    "father.strHometown\n"
   ]
  },
  {
   "cell_type": "code",
   "execution_count": null,
   "metadata": {},
   "outputs": [],
   "source": []
  }
 ],
 "metadata": {
  "kernelspec": {
   "display_name": "Python [conda env:anaconda3]",
   "language": "python",
   "name": "conda-env-anaconda3-py"
  },
  "language_info": {
   "codemirror_mode": {
    "name": "ipython",
    "version": 3
   },
   "file_extension": ".py",
   "mimetype": "text/x-python",
   "name": "python",
   "nbconvert_exporter": "python",
   "pygments_lexer": "ipython3",
   "version": "3.6.4"
  }
 },
 "nbformat": 4,
 "nbformat_minor": 2
}
