{
 "cells": [
  {
   "cell_type": "code",
   "execution_count": 2,
   "metadata": {},
   "outputs": [],
   "source": [
    "class Room:\n",
    "    numWidth = 100\n",
    "    numHeight = 100\n",
    "    numDepth = 100\n",
    "    \n",
    "    def __init__(self,parWidth, parHeight, parDepth):\n",
    "        self.numDepth = parDepth\n",
    "        self.numHeight = parHeight\n",
    "        self.numWidth =parWidth\n",
    "    \n",
    "    def getVolum(self):\n",
    "        return self.numDepth*self.numHeight*self.numWidth\n",
    "\n",
    "    def __eq__(self,other):\n",
    "        if isinstance(other, Room):\n",
    "            if self.getVolum() == other.getVolum():\n",
    "                return True\n"
   ]
  },
  {
   "cell_type": "code",
   "execution_count": 8,
   "metadata": {},
   "outputs": [
    {
     "name": "stdout",
     "output_type": "stream",
     "text": [
      "True\n"
     ]
    }
   ],
   "source": [
    "room1 = Room(100,20,30)\n",
    "room2 = Room(100,10,60)\n",
    "\n",
    "print(room1 ==room2)"
   ]
  },
  {
   "cell_type": "code",
   "execution_count": null,
   "metadata": {},
   "outputs": [],
   "source": []
  }
 ],
 "metadata": {
  "kernelspec": {
   "display_name": "Python [conda env:anaconda3]",
   "language": "python",
   "name": "conda-env-anaconda3-py"
  },
  "language_info": {
   "codemirror_mode": {
    "name": "ipython",
    "version": 3
   },
   "file_extension": ".py",
   "mimetype": "text/x-python",
   "name": "python",
   "nbconvert_exporter": "python",
   "pygments_lexer": "ipython3",
   "version": "3.6.4"
  }
 },
 "nbformat": 4,
 "nbformat_minor": 2
}
